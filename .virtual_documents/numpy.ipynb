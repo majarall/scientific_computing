import numpy as np


!pip list



